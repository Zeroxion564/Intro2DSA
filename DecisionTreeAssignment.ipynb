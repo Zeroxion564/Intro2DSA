{
 "cells": [
  {
   "cell_type": "code",
   "execution_count": 3,
   "metadata": {},
   "outputs": [
    {
     "name": "stdout",
     "output_type": "stream",
     "text": [
      "510\n",
      "382\n",
      "335\n",
      "312\n",
      "341\n",
      "258\n",
      "285\n",
      "217\n"
     ]
    }
   ],
   "source": [
    "house1 = {\"size\":200, \"age\":8, \"bedrooms\":4}\n",
    "house2 = {\"size\":180, \"age\":90, \"bedrooms\":4}\n",
    "house3 = {\"size\":170, \"age\":30, \"bedrooms\":3}\n",
    "house4 = {\"size\":175, \"age\":55, \"bedrooms\":3}\n",
    "house5 = {\"size\":145, \"age\":20, \"bedrooms\":3}\n",
    "house6 = {\"size\":140, \"age\":10, \"bedrooms\":1}\n",
    "house7 = {\"size\":130, \"age\":55, \"bedrooms\":2}\n",
    "house8 = {\"size\":80, \"age\":75, \"bedrooms\":1}\n",
    "data = [house1, house2, house3, house4, house5, house6, house7, house8]\n",
    "\n",
    "def pricePrediction(house):\n",
    "    if house[\"size\"]>160:\n",
    "        if house[\"bedrooms\"]>3:\n",
    "            if house[\"age\"]<10: return 510\n",
    "            else: return 382\n",
    "        else:\n",
    "            if house[\"age\"]<40: return 335\n",
    "            else: return 312\n",
    "    else:\n",
    "        if house[\"age\"]<25:\n",
    "            if house[\"bedrooms\"]>2: return 341\n",
    "            else: return 258\n",
    "        else:\n",
    "            if house[\"size\"]>100: return 285\n",
    "            else: return 217\n",
    "            \n",
    "for i in data:\n",
    "    print(pricePrediction(i))"
   ]
  },
  {
   "cell_type": "code",
   "execution_count": null,
   "metadata": {},
   "outputs": [],
   "source": []
  }
 ],
 "metadata": {
  "kernelspec": {
   "display_name": "Python 3",
   "language": "python",
   "name": "python3"
  },
  "language_info": {
   "codemirror_mode": {
    "name": "ipython",
    "version": 3
   },
   "file_extension": ".py",
   "mimetype": "text/x-python",
   "name": "python",
   "nbconvert_exporter": "python",
   "pygments_lexer": "ipython3",
   "version": "3.6.5"
  }
 },
 "nbformat": 4,
 "nbformat_minor": 2
}
